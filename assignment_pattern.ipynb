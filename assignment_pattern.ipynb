{
  "nbformat": 4,
  "nbformat_minor": 0,
  "metadata": {
    "colab": {
      "name": "assignment pattern.ipynb",
      "provenance": [],
      "collapsed_sections": []
    },
    "kernelspec": {
      "name": "python3",
      "display_name": "Python 3"
    },
    "language_info": {
      "name": "python"
    }
  },
  "cells": [
    {
      "cell_type": "code",
      "execution_count": null,
      "metadata": {
        "colab": {
          "base_uri": "https://localhost:8080/"
        },
        "id": "LrtgfEupmvk3",
        "outputId": "74fff834-6773-4c8e-98a4-9587a01dabc0"
      },
      "outputs": [
        {
          "output_type": "stream",
          "name": "stdout",
          "text": [
            "1\n",
            "12\n",
            "123\n",
            "1234\n",
            "12345\n"
          ]
        }
      ],
      "source": [
        "#1\n",
        "for i in range (1,6):\n",
        "  for j in range (1,i+1):\n",
        "    print (j,end='')\n",
        "  print ()"
      ]
    },
    {
      "cell_type": "code",
      "source": [
        "#2\n",
        "for i in range (1,6):\n",
        "  for j in range (1,i+1):\n",
        "    print (i,end='')\n",
        "  print ()"
      ],
      "metadata": {
        "colab": {
          "base_uri": "https://localhost:8080/"
        },
        "id": "5fuOvw2bnb4u",
        "outputId": "3e8043ab-b1b5-4ca4-f3e3-9a96ef92f75f"
      },
      "execution_count": null,
      "outputs": [
        {
          "output_type": "stream",
          "name": "stdout",
          "text": [
            "1\n",
            "22\n",
            "333\n",
            "4444\n",
            "55555\n"
          ]
        }
      ]
    },
    {
      "cell_type": "code",
      "source": [
        "#3\n",
        "for i in range (1,6):\n",
        "  for j in range (1,i+1):\n",
        "    print (j,end='')\n",
        "  print ()\n",
        "for i in range (5,0,-1):\n",
        "  for j in range (1,i,1):\n",
        "    print (j,end='')\n",
        "  print()"
      ],
      "metadata": {
        "colab": {
          "base_uri": "https://localhost:8080/"
        },
        "id": "wXy2bI06nqBW",
        "outputId": "a32b63ce-5b9d-49bc-8d8f-9345b83445c9"
      },
      "execution_count": null,
      "outputs": [
        {
          "output_type": "stream",
          "name": "stdout",
          "text": [
            "1\n",
            "12\n",
            "123\n",
            "1234\n",
            "12345\n",
            "1234\n",
            "123\n",
            "12\n",
            "1\n",
            "\n"
          ]
        }
      ]
    },
    {
      "cell_type": "code",
      "source": [
        "#4\n",
        "for i in range (5,0,-1):\n",
        "  for j in range (1,i+1,1):\n",
        "    print (j,end='')\n",
        "  print()\n",
        "for i in range (1,6):\n",
        "  for j in range (1,i+1):\n",
        "    print (j,end='')\n",
        "  print ()"
      ],
      "metadata": {
        "colab": {
          "base_uri": "https://localhost:8080/"
        },
        "id": "wXe0gaOLo7QA",
        "outputId": "2f9826e4-6208-4b19-e0a2-2157dd41f68b"
      },
      "execution_count": null,
      "outputs": [
        {
          "output_type": "stream",
          "name": "stdout",
          "text": [
            "12345\n",
            "1234\n",
            "123\n",
            "12\n",
            "1\n",
            "1\n",
            "12\n",
            "123\n",
            "1234\n",
            "12345\n"
          ]
        }
      ]
    },
    {
      "cell_type": "code",
      "source": [
        "#5\n",
        "for i in range (5,0,-1):\n",
        "  for j in range (i,0,-1):\n",
        "    print (j,end='')\n",
        "  print()\n",
        "for i in range (1,6):\n",
        "  for j in range (i,0,-1):\n",
        "    print (j,end='')\n",
        "  print ()"
      ],
      "metadata": {
        "colab": {
          "base_uri": "https://localhost:8080/"
        },
        "id": "rzhKXuffpX2Z",
        "outputId": "10645d18-dccf-4e79-afe5-570e7a5708ae"
      },
      "execution_count": null,
      "outputs": [
        {
          "output_type": "stream",
          "name": "stdout",
          "text": [
            "54321\n",
            "4321\n",
            "321\n",
            "21\n",
            "1\n",
            "1\n",
            "21\n",
            "321\n",
            "4321\n",
            "54321\n"
          ]
        }
      ]
    },
    {
      "cell_type": "code",
      "source": [
        "#6\n",
        "for i in range (1,6):\n",
        "  print (' '*(5-i),end='')\n",
        "  for j in range (1,i+1):\n",
        "    print (j,end=' ')\n",
        "  print ()"
      ],
      "metadata": {
        "colab": {
          "base_uri": "https://localhost:8080/"
        },
        "id": "YdoB3Bl3r7nG",
        "outputId": "c53936ec-3aad-41bb-863d-4d8be8fd3fa7"
      },
      "execution_count": null,
      "outputs": [
        {
          "output_type": "stream",
          "name": "stdout",
          "text": [
            "    1 \n",
            "   1 2 \n",
            "  1 2 3 \n",
            " 1 2 3 4 \n",
            "1 2 3 4 5 \n"
          ]
        }
      ]
    },
    {
      "cell_type": "code",
      "source": [
        "#7\n",
        "for i in range (1,6):\n",
        "  for j in range (5,i-1,-1):\n",
        "    print (j,end='')\n",
        "  print()"
      ],
      "metadata": {
        "id": "pfYrRKT4s6Mw",
        "colab": {
          "base_uri": "https://localhost:8080/"
        },
        "outputId": "50d05cb4-05ab-4470-8cf6-0751ecc1b7de"
      },
      "execution_count": null,
      "outputs": [
        {
          "output_type": "stream",
          "name": "stdout",
          "text": [
            "54321\n",
            "5432\n",
            "543\n",
            "54\n",
            "5\n"
          ]
        }
      ]
    },
    {
      "cell_type": "code",
      "source": [
        "#8\n",
        "for i in range (5,0,-1):\n",
        "  for j in range (5,i-1,-1):\n",
        "    print (j,end='')\n",
        "  print()"
      ],
      "metadata": {
        "colab": {
          "base_uri": "https://localhost:8080/"
        },
        "id": "CnP5RVOtUwU5",
        "outputId": "4093a3f4-817f-4580-8dd1-f5d9f5e3451b"
      },
      "execution_count": null,
      "outputs": [
        {
          "output_type": "stream",
          "name": "stdout",
          "text": [
            "5\n",
            "54\n",
            "543\n",
            "5432\n",
            "54321\n"
          ]
        }
      ]
    },
    {
      "cell_type": "code",
      "source": [
        "#9\n",
        "for i in range (5,0,-1):\n",
        "  for j in range (1,i+1):\n",
        "    print (j,end='')\n",
        "  print()"
      ],
      "metadata": {
        "colab": {
          "base_uri": "https://localhost:8080/"
        },
        "id": "_2QvAht9Vo92",
        "outputId": "8de93d75-ff5b-402d-8591-1110a64016a3"
      },
      "execution_count": null,
      "outputs": [
        {
          "output_type": "stream",
          "name": "stdout",
          "text": [
            "12345\n",
            "1234\n",
            "123\n",
            "12\n",
            "1\n"
          ]
        }
      ]
    },
    {
      "cell_type": "code",
      "source": [
        "#10\n",
        "a=1\n",
        "for i in range (1,6):\n",
        "  for j in range (1,i+1):\n",
        "    print (a,end=' ')\n",
        "    a+=1\n",
        "  print()"
      ],
      "metadata": {
        "colab": {
          "base_uri": "https://localhost:8080/"
        },
        "id": "dFTnVoepV3w4",
        "outputId": "c7bb34ba-47ce-4b01-f7ff-7b8cfbbf6d61"
      },
      "execution_count": null,
      "outputs": [
        {
          "output_type": "stream",
          "name": "stdout",
          "text": [
            "1 \n",
            "2 3 \n",
            "4 5 6 \n",
            "7 8 9 10 \n",
            "11 12 13 14 15 \n"
          ]
        }
      ]
    },
    {
      "cell_type": "code",
      "source": [
        "#11\n",
        "for i in range (1,6):\n",
        "  for j in range (i,0,-1):\n",
        "    print (j,end='')\n",
        "  print ()"
      ],
      "metadata": {
        "colab": {
          "base_uri": "https://localhost:8080/"
        },
        "id": "P74SwvYJWMzU",
        "outputId": "b70efa6d-c4da-4fc3-d5a3-ff9c4b6ad555"
      },
      "execution_count": null,
      "outputs": [
        {
          "output_type": "stream",
          "name": "stdout",
          "text": [
            "1\n",
            "21\n",
            "321\n",
            "4321\n",
            "54321\n"
          ]
        }
      ]
    },
    {
      "cell_type": "code",
      "source": [
        "#12\n",
        "for i in range (1,6):\n",
        "  for j in range (i,i*5+1,5):\n",
        "    print (j,end=' ')\n",
        "  print ()"
      ],
      "metadata": {
        "colab": {
          "base_uri": "https://localhost:8080/"
        },
        "id": "kD3N1_DyXeok",
        "outputId": "fc89769c-82c0-4fca-a198-17465af3fc02"
      },
      "execution_count": null,
      "outputs": [
        {
          "output_type": "stream",
          "name": "stdout",
          "text": [
            "1 \n",
            "2 7 \n",
            "3 8 13 \n",
            "4 9 14 19 \n",
            "5 10 15 20 25 \n"
          ]
        }
      ]
    },
    {
      "cell_type": "code",
      "source": [
        "#13\n",
        "for i in range (0,5):\n",
        " print(' '*(4-i),end='')\n",
        " c=11**i\n",
        " while c>0:\n",
        "   s=c%10\n",
        "   print ('',s,end='')\n",
        "   c//=10\n",
        " print()"
      ],
      "metadata": {
        "id": "TsHlGNHEY9OW",
        "colab": {
          "base_uri": "https://localhost:8080/"
        },
        "outputId": "da824e54-9b8d-4ea9-cf20-f2f97de97124"
      },
      "execution_count": null,
      "outputs": [
        {
          "output_type": "stream",
          "name": "stdout",
          "text": [
            "     1\n",
            "    1 1\n",
            "   1 2 1\n",
            "  1 3 3 1\n",
            " 1 4 6 4 1\n"
          ]
        }
      ]
    },
    {
      "cell_type": "code",
      "source": [
        "#14\n",
        "for i in range (1,6):\n",
        "  for j in range (1,i+1):\n",
        "    print (j,end='')\n",
        "  for j in range (i-1,0,-1):\n",
        "    print (j,end='')\n",
        "  print()"
      ],
      "metadata": {
        "colab": {
          "base_uri": "https://localhost:8080/"
        },
        "id": "RpM3vsdKcL_y",
        "outputId": "931586c8-2505-4189-99c5-23226f93addd"
      },
      "execution_count": null,
      "outputs": [
        {
          "output_type": "stream",
          "name": "stdout",
          "text": [
            "1\n",
            "121\n",
            "12321\n",
            "1234321\n",
            "123454321\n"
          ]
        }
      ]
    },
    {
      "cell_type": "code",
      "source": [
        "#15\n",
        "for i in range (5,0,-1):\n",
        "  print(\" \"*(5-i),end='')\n",
        "  for j in range (1,i+1):\n",
        "    print (j,end=' ')\n",
        "  print()"
      ],
      "metadata": {
        "colab": {
          "base_uri": "https://localhost:8080/"
        },
        "id": "stEVUwCkcuO6",
        "outputId": "04016308-9374-403e-f1e2-019e47474e56"
      },
      "execution_count": null,
      "outputs": [
        {
          "output_type": "stream",
          "name": "stdout",
          "text": [
            "1 2 3 4 5 \n",
            " 1 2 3 4 \n",
            "  1 2 3 \n",
            "   1 2 \n",
            "    1 \n"
          ]
        }
      ]
    },
    {
      "cell_type": "code",
      "source": [
        "#16\n",
        "for i in range (1,6):\n",
        "  print (\" \"*(5-i),end='')\n",
        "  for j in range (1,i+1):\n",
        "    print (j,end=' ')\n",
        "  print ()\n",
        "for i in range (4,0,-1):\n",
        "  print(' '*(5-i),end='')\n",
        "  for j in range (1,i+1):\n",
        "    print(j,end=' ')\n",
        "  print()\n"
      ],
      "metadata": {
        "colab": {
          "base_uri": "https://localhost:8080/"
        },
        "id": "60-6-DkJma0b",
        "outputId": "8daa9cd1-1468-4dce-8cc8-fddc7fb7f63f"
      },
      "execution_count": null,
      "outputs": [
        {
          "output_type": "stream",
          "name": "stdout",
          "text": [
            "    1 \n",
            "   1 2 \n",
            "  1 2 3 \n",
            " 1 2 3 4 \n",
            "1 2 3 4 5 \n",
            " 1 2 3 4 \n",
            "  1 2 3 \n",
            "   1 2 \n",
            "    1 \n"
          ]
        }
      ]
    },
    {
      "cell_type": "code",
      "source": [
        "f1,f2,fn=0,1,0\n",
        "n=int(input())\n",
        "while fn>2:\n",
        "  if n==fn:\n",
        "    print(fn,'is in series')\n",
        "    break\n",
        "  elif n<fn:\n",
        "    print('not',n)\n",
        "  fn=f1+f2\n",
        "  f1,f2=f2,fn\n",
        "\n",
        "\n"
      ],
      "metadata": {
        "colab": {
          "base_uri": "https://localhost:8080/"
        },
        "id": "7teFrH7qnL5E",
        "outputId": "c651346a-4dd5-46e2-b516-52a09d07137b"
      },
      "execution_count": null,
      "outputs": [
        {
          "name": "stdout",
          "output_type": "stream",
          "text": [
            "8\n"
          ]
        }
      ]
    },
    {
      "cell_type": "code",
      "source": [
        "453\n",
        "\n",
        "for i in range (0,8):\n",
        "  print(' '*(n-i),end='')\n",
        "  c=11**i\n",
        "  while c>0:\n",
        "    s=c%10\n",
        "    print ('',s,end='')\n",
        "    c//=10\n",
        "  print()\n"
      ],
      "metadata": {
        "id": "GAIOiVm0ACPL",
        "colab": {
          "base_uri": "https://localhost:8080/"
        },
        "outputId": "9a6d10d0-cb4e-41a6-f0d3-fdc982110a35"
      },
      "execution_count": null,
      "outputs": [
        {
          "output_type": "stream",
          "name": "stdout",
          "text": [
            "         1\n",
            "        1 1\n",
            "       1 2 1\n",
            "      1 3 3 1\n",
            "     1 4 6 4 1\n",
            "    1 5 0 1 6 1\n",
            "   1 6 5 1 7 7 1\n",
            "  1 7 1 7 8 4 9 1\n"
          ]
        }
      ]
    },
    {
      "cell_type": "code",
      "source": [
        "n = 6\n",
        "\n",
        "for i in range(1, n+1):\n",
        "\tfor j in range(0, n-i+1):\n",
        "\t\tprint(' ', end='')\n",
        "\n",
        "\t# first element is always 1\n",
        "\tC = 1\n",
        "\tfor j in range(1, i+1):\n",
        "\n",
        "\t\t# first value in a line is always 1\n",
        "\t\tprint(' ', C, sep='', end='')\n",
        "\n",
        "\t\t# using Binomial Coefficient\n",
        "\t\tC = C * (i - j) // j\n",
        "\tprint()\n"
      ],
      "metadata": {
        "colab": {
          "base_uri": "https://localhost:8080/"
        },
        "id": "AcL7eARC_sck",
        "outputId": "b6ea0bcd-dc4f-4a77-ef08-f2360cd23757"
      },
      "execution_count": null,
      "outputs": [
        {
          "output_type": "stream",
          "name": "stdout",
          "text": [
            "       1\n",
            "      1 1\n",
            "     1 2 1\n",
            "    1 3 3 1\n",
            "   1 4 6 4 1\n",
            "  1 5 10 10 5 1\n"
          ]
        }
      ]
    },
    {
      "cell_type": "code",
      "source": [
        "#17\n",
        "for i in range (5,0,-1):\n",
        "  print(' '*(5-i),end='')\n",
        "  for j in range (1,i+1):\n",
        "    print(j,end=' ')\n",
        "  print()\n",
        "for i in range (1,6):\n",
        "  print(' '*(5-i),end='')\n",
        "  for j in range (1,i+1):\n",
        "    print(j,end=' ')\n",
        "  print()"
      ],
      "metadata": {
        "id": "Vfq5QqXA-Hq0",
        "colab": {
          "base_uri": "https://localhost:8080/"
        },
        "outputId": "40cb3ecd-3ff5-4d72-9f32-d3194ed944a5"
      },
      "execution_count": null,
      "outputs": [
        {
          "output_type": "stream",
          "name": "stdout",
          "text": [
            "1 2 3 4 5 \n",
            " 1 2 3 4 \n",
            "  1 2 3 \n",
            "   1 2 \n",
            "    1 \n",
            "    1 \n",
            "   1 2 \n",
            "  1 2 3 \n",
            " 1 2 3 4 \n",
            "1 2 3 4 5 \n"
          ]
        }
      ]
    },
    {
      "cell_type": "code",
      "source": [
        ""
      ],
      "metadata": {
        "id": "atTfLI_4dL9H"
      },
      "execution_count": null,
      "outputs": []
    }
  ]
}